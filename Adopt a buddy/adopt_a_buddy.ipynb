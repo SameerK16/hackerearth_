{
 "cells": [
  {
   "cell_type": "markdown",
   "metadata": {},
   "source": [
    "# Adopt a Buddy\n",
    "# Hackerearth competition"
   ]
  },
  {
   "cell_type": "code",
   "execution_count": 1,
   "metadata": {},
   "outputs": [],
   "source": [
    "import pandas as pd\n",
    "import numpy as np\n",
    "import xgboost as xgb\n",
    "\n",
    "from sklearn.model_selection import train_test_split\n",
    "from sklearn.metrics import accuracy_score\n",
    "from datetime import date"
   ]
  },
  {
   "cell_type": "markdown",
   "metadata": {},
   "source": [
    "# Overview of Training Dataset"
   ]
  },
  {
   "cell_type": "code",
   "execution_count": 2,
   "metadata": {
    "scrolled": true
   },
   "outputs": [
    {
     "data": {
      "text/html": [
       "<div>\n",
       "<style scoped>\n",
       "    .dataframe tbody tr th:only-of-type {\n",
       "        vertical-align: middle;\n",
       "    }\n",
       "\n",
       "    .dataframe tbody tr th {\n",
       "        vertical-align: top;\n",
       "    }\n",
       "\n",
       "    .dataframe thead th {\n",
       "        text-align: right;\n",
       "    }\n",
       "</style>\n",
       "<table border=\"1\" class=\"dataframe\">\n",
       "  <thead>\n",
       "    <tr style=\"text-align: right;\">\n",
       "      <th></th>\n",
       "      <th>pet_id</th>\n",
       "      <th>issue_date</th>\n",
       "      <th>listing_date</th>\n",
       "      <th>condition</th>\n",
       "      <th>color_type</th>\n",
       "      <th>length(m)</th>\n",
       "      <th>height(cm)</th>\n",
       "      <th>X1</th>\n",
       "      <th>X2</th>\n",
       "      <th>breed_category</th>\n",
       "      <th>pet_category</th>\n",
       "    </tr>\n",
       "  </thead>\n",
       "  <tbody>\n",
       "    <tr>\n",
       "      <th>0</th>\n",
       "      <td>ANSL_69903</td>\n",
       "      <td>2016-07-10 00:00:00</td>\n",
       "      <td>2016-09-21 16:25:00</td>\n",
       "      <td>2.0</td>\n",
       "      <td>Brown Tabby</td>\n",
       "      <td>0.80</td>\n",
       "      <td>7.78</td>\n",
       "      <td>13</td>\n",
       "      <td>9</td>\n",
       "      <td>0.0</td>\n",
       "      <td>1</td>\n",
       "    </tr>\n",
       "    <tr>\n",
       "      <th>1</th>\n",
       "      <td>ANSL_66892</td>\n",
       "      <td>2013-11-21 00:00:00</td>\n",
       "      <td>2018-12-27 17:47:00</td>\n",
       "      <td>1.0</td>\n",
       "      <td>White</td>\n",
       "      <td>0.72</td>\n",
       "      <td>14.19</td>\n",
       "      <td>13</td>\n",
       "      <td>9</td>\n",
       "      <td>0.0</td>\n",
       "      <td>2</td>\n",
       "    </tr>\n",
       "    <tr>\n",
       "      <th>2</th>\n",
       "      <td>ANSL_69750</td>\n",
       "      <td>2014-09-28 00:00:00</td>\n",
       "      <td>2016-10-19 08:24:00</td>\n",
       "      <td>NaN</td>\n",
       "      <td>Brown</td>\n",
       "      <td>0.15</td>\n",
       "      <td>40.90</td>\n",
       "      <td>15</td>\n",
       "      <td>4</td>\n",
       "      <td>2.0</td>\n",
       "      <td>4</td>\n",
       "    </tr>\n",
       "    <tr>\n",
       "      <th>3</th>\n",
       "      <td>ANSL_71623</td>\n",
       "      <td>2016-12-31 00:00:00</td>\n",
       "      <td>2019-01-25 18:30:00</td>\n",
       "      <td>1.0</td>\n",
       "      <td>White</td>\n",
       "      <td>0.62</td>\n",
       "      <td>17.82</td>\n",
       "      <td>0</td>\n",
       "      <td>1</td>\n",
       "      <td>0.0</td>\n",
       "      <td>2</td>\n",
       "    </tr>\n",
       "    <tr>\n",
       "      <th>4</th>\n",
       "      <td>ANSL_57969</td>\n",
       "      <td>2017-09-28 00:00:00</td>\n",
       "      <td>2017-11-19 09:38:00</td>\n",
       "      <td>2.0</td>\n",
       "      <td>Black</td>\n",
       "      <td>0.50</td>\n",
       "      <td>11.06</td>\n",
       "      <td>18</td>\n",
       "      <td>4</td>\n",
       "      <td>0.0</td>\n",
       "      <td>1</td>\n",
       "    </tr>\n",
       "    <tr>\n",
       "      <th>...</th>\n",
       "      <td>...</td>\n",
       "      <td>...</td>\n",
       "      <td>...</td>\n",
       "      <td>...</td>\n",
       "      <td>...</td>\n",
       "      <td>...</td>\n",
       "      <td>...</td>\n",
       "      <td>...</td>\n",
       "      <td>...</td>\n",
       "      <td>...</td>\n",
       "      <td>...</td>\n",
       "    </tr>\n",
       "    <tr>\n",
       "      <th>18829</th>\n",
       "      <td>ANSL_51738</td>\n",
       "      <td>2017-01-26 00:00:00</td>\n",
       "      <td>2018-03-09 15:35:00</td>\n",
       "      <td>2.0</td>\n",
       "      <td>Tricolor</td>\n",
       "      <td>0.44</td>\n",
       "      <td>27.36</td>\n",
       "      <td>0</td>\n",
       "      <td>1</td>\n",
       "      <td>0.0</td>\n",
       "      <td>2</td>\n",
       "    </tr>\n",
       "    <tr>\n",
       "      <th>18830</th>\n",
       "      <td>ANSL_59900</td>\n",
       "      <td>2016-06-18 00:00:00</td>\n",
       "      <td>2017-07-09 08:37:00</td>\n",
       "      <td>NaN</td>\n",
       "      <td>Brown</td>\n",
       "      <td>0.73</td>\n",
       "      <td>14.25</td>\n",
       "      <td>15</td>\n",
       "      <td>4</td>\n",
       "      <td>2.0</td>\n",
       "      <td>4</td>\n",
       "    </tr>\n",
       "    <tr>\n",
       "      <th>18831</th>\n",
       "      <td>ANSL_53210</td>\n",
       "      <td>2010-07-21 00:00:00</td>\n",
       "      <td>2018-08-22 14:27:00</td>\n",
       "      <td>0.0</td>\n",
       "      <td>Calico Point</td>\n",
       "      <td>0.99</td>\n",
       "      <td>28.13</td>\n",
       "      <td>13</td>\n",
       "      <td>9</td>\n",
       "      <td>1.0</td>\n",
       "      <td>1</td>\n",
       "    </tr>\n",
       "    <tr>\n",
       "      <th>18832</th>\n",
       "      <td>ANSL_63468</td>\n",
       "      <td>2017-05-12 00:00:00</td>\n",
       "      <td>2018-02-08 14:05:00</td>\n",
       "      <td>0.0</td>\n",
       "      <td>Tan</td>\n",
       "      <td>0.55</td>\n",
       "      <td>44.82</td>\n",
       "      <td>13</td>\n",
       "      <td>9</td>\n",
       "      <td>1.0</td>\n",
       "      <td>2</td>\n",
       "    </tr>\n",
       "    <tr>\n",
       "      <th>18833</th>\n",
       "      <td>ANSL_73558</td>\n",
       "      <td>2011-12-13 00:00:00</td>\n",
       "      <td>2018-10-26 14:18:00</td>\n",
       "      <td>0.0</td>\n",
       "      <td>Brown</td>\n",
       "      <td>0.86</td>\n",
       "      <td>37.40</td>\n",
       "      <td>0</td>\n",
       "      <td>1</td>\n",
       "      <td>1.0</td>\n",
       "      <td>2</td>\n",
       "    </tr>\n",
       "  </tbody>\n",
       "</table>\n",
       "<p>18834 rows × 11 columns</p>\n",
       "</div>"
      ],
      "text/plain": [
       "           pet_id           issue_date         listing_date  condition  \\\n",
       "0      ANSL_69903  2016-07-10 00:00:00  2016-09-21 16:25:00        2.0   \n",
       "1      ANSL_66892  2013-11-21 00:00:00  2018-12-27 17:47:00        1.0   \n",
       "2      ANSL_69750  2014-09-28 00:00:00  2016-10-19 08:24:00        NaN   \n",
       "3      ANSL_71623  2016-12-31 00:00:00  2019-01-25 18:30:00        1.0   \n",
       "4      ANSL_57969  2017-09-28 00:00:00  2017-11-19 09:38:00        2.0   \n",
       "...           ...                  ...                  ...        ...   \n",
       "18829  ANSL_51738  2017-01-26 00:00:00  2018-03-09 15:35:00        2.0   \n",
       "18830  ANSL_59900  2016-06-18 00:00:00  2017-07-09 08:37:00        NaN   \n",
       "18831  ANSL_53210  2010-07-21 00:00:00  2018-08-22 14:27:00        0.0   \n",
       "18832  ANSL_63468  2017-05-12 00:00:00  2018-02-08 14:05:00        0.0   \n",
       "18833  ANSL_73558  2011-12-13 00:00:00  2018-10-26 14:18:00        0.0   \n",
       "\n",
       "         color_type  length(m)  height(cm)  X1  X2  breed_category  \\\n",
       "0       Brown Tabby       0.80        7.78  13   9             0.0   \n",
       "1             White       0.72       14.19  13   9             0.0   \n",
       "2             Brown       0.15       40.90  15   4             2.0   \n",
       "3             White       0.62       17.82   0   1             0.0   \n",
       "4             Black       0.50       11.06  18   4             0.0   \n",
       "...             ...        ...         ...  ..  ..             ...   \n",
       "18829      Tricolor       0.44       27.36   0   1             0.0   \n",
       "18830         Brown       0.73       14.25  15   4             2.0   \n",
       "18831  Calico Point       0.99       28.13  13   9             1.0   \n",
       "18832           Tan       0.55       44.82  13   9             1.0   \n",
       "18833         Brown       0.86       37.40   0   1             1.0   \n",
       "\n",
       "       pet_category  \n",
       "0                 1  \n",
       "1                 2  \n",
       "2                 4  \n",
       "3                 2  \n",
       "4                 1  \n",
       "...             ...  \n",
       "18829             2  \n",
       "18830             4  \n",
       "18831             1  \n",
       "18832             2  \n",
       "18833             2  \n",
       "\n",
       "[18834 rows x 11 columns]"
      ]
     },
     "execution_count": 2,
     "metadata": {},
     "output_type": "execute_result"
    }
   ],
   "source": [
    "train_dataset = pd.read_csv('./Dataset/train.csv')\n",
    "train_dataset"
   ]
  },
  {
   "cell_type": "code",
   "execution_count": 4,
   "metadata": {},
   "outputs": [
    {
     "name": "stdout",
     "output_type": "stream",
     "text": [
      "breed category distribution \t  0 :  9000 \t1 :  8357 \t2 :  1477\n",
      "pet category distribution \t  0 :  88 \t1 :  7184 \t2 :  10621 \t3 : 0 \t4 :  941\n"
     ]
    }
   ],
   "source": [
    "pet_category = {'0':0,'1':0,'2':0,'3':0,'4':0}\n",
    "breed_category = {'0':0,'1':0,'2':0}\n",
    "\n",
    "for f in range(0,len(train_dataset)):\n",
    "    if (train_dataset['breed_category'][f] == 0.0):\n",
    "        breed_category['0'] +=1\n",
    "    if (train_dataset['breed_category'][f] == 1.0):\n",
    "        breed_category['1'] +=1\n",
    "    if (train_dataset['breed_category'][f] == 2.0):\n",
    "        breed_category['2'] +=1\n",
    "    \n",
    "    if (train_dataset['pet_category'][f] == 0):\n",
    "        pet_category['0'] +=1\n",
    "    if (train_dataset['pet_category'][f] == 1):\n",
    "        pet_category['1'] +=1\n",
    "    if (train_dataset['pet_category'][f] == 2):\n",
    "        pet_category['2'] +=1\n",
    "    if (train_dataset['pet_category'][f] == 3):\n",
    "        pet_category['3'] +=1\n",
    "    if (train_dataset['pet_category'][f] == 4):\n",
    "        pet_category['4'] +=1\n",
    "        \n",
    "\n",
    "print('breed category distribution \\t', ' 0 : ',breed_category['0'],'\\t1 : ', breed_category['1'], '\\t2 : ',breed_category['2'])\n",
    "\n",
    "print('pet category distribution \\t', ' 0 : ',pet_category['0'],'\\t1 : ', pet_category['1'], '\\t2 : ',pet_category['2'],\n",
    "      '\\t3 :',pet_category['3'],'\\t4 : ',pet_category['4'])\n"
   ]
  },
  {
   "cell_type": "markdown",
   "metadata": {},
   "source": [
    "# Separate training data into Input and Output features "
   ]
  },
  {
   "cell_type": "code",
   "execution_count": 3,
   "metadata": {},
   "outputs": [
    {
     "name": "stdout",
     "output_type": "stream",
     "text": [
      "Input feature dataset\n",
      " [[2.0 'Brown Tabby' 0.8 7.78 13 9]\n",
      " [1.0 'White' 0.72 14.19 13 9]\n",
      " [nan 'Brown' 0.15 40.9 15 4]\n",
      " ...\n",
      " [0.0 'Calico Point' 0.99 28.13 13 9]\n",
      " [0.0 'Tan' 0.55 44.82 13 9]\n",
      " [0.0 'Brown' 0.86 37.4 0 1]]\n",
      "Pet category\n",
      " [[1]\n",
      " [2]\n",
      " [4]\n",
      " ...\n",
      " [1]\n",
      " [2]\n",
      " [2]]\n",
      "Breed Category\n",
      " [[0.]\n",
      " [0.]\n",
      " [2.]\n",
      " ...\n",
      " [1.]\n",
      " [1.]\n",
      " [1.]]\n"
     ]
    }
   ],
   "source": [
    "# model to predict pet category\n",
    "# Extact input features as a np array\n",
    "in_features = ['condition', 'color_type', 'length(m)', 'height(cm)','X1','X2']\n",
    "x = np.array(train_dataset[in_features])\n",
    "print(\"Input feature dataset\\n\", x)\n",
    "\n",
    "out_feature1 = ['pet_category']\n",
    "y1 = np.array(train_dataset[out_feature1])\n",
    "print(\"Pet category\\n\",y1)\n",
    "\n",
    "out_feature2 = ['breed_category']\n",
    "y2 = np.array(train_dataset[out_feature2])\n",
    "print(\"Breed Category\\n\", y2)"
   ]
  },
  {
   "cell_type": "markdown",
   "metadata": {},
   "source": [
    "# Data pre-processing\n",
    "\n"
   ]
  },
  {
   "cell_type": "code",
   "execution_count": 4,
   "metadata": {},
   "outputs": [],
   "source": [
    "# Replace the color_type with integer value,\n",
    "# \n",
    "color_type = []\n",
    "\n",
    "for f in range(0, len(train_dataset)):\n",
    "    if not( train_dataset['color_type'][f] in color_type):\n",
    "        color_type.append(train_dataset['color_type'][f])"
   ]
  },
  {
   "cell_type": "code",
   "execution_count": 49,
   "metadata": {},
   "outputs": [],
   "source": [
    "#print(len(color_type))\n",
    "#color_type"
   ]
  },
  {
   "cell_type": "code",
   "execution_count": 5,
   "metadata": {},
   "outputs": [
    {
     "name": "stdout",
     "output_type": "stream",
     "text": [
      "[[2.0 0 0.8 7.78 13 9]\n",
      " [1.0 1 0.72 14.19 13 9]\n",
      " [nan 2 0.15 40.9 15 4]\n",
      " ...\n",
      " [0.0 25 0.99 28.13 13 9]\n",
      " [0.0 16 0.55 44.82 13 9]\n",
      " [0.0 2 0.86 37.4 0 1]]\n"
     ]
    }
   ],
   "source": [
    "for i in range(0, len(color_type)):\n",
    "    ar1 = np.where(x[:, 1] == color_type[i])\n",
    "    for j in range(0, len(ar1[0])):\n",
    "        x[ar1[0][j], 1] = i\n",
    "print(x)"
   ]
  },
  {
   "cell_type": "markdown",
   "metadata": {},
   "source": [
    "# Training using XGBClassifer "
   ]
  },
  {
   "cell_type": "code",
   "execution_count": 14,
   "metadata": {},
   "outputs": [
    {
     "data": {
      "text/plain": [
       "XGBClassifier(base_score=0.5, booster='gbtree', colsample_bylevel=1,\n",
       "              colsample_bynode=1, colsample_bytree=1, gamma=0, gpu_id=-1,\n",
       "              importance_type='gain', interaction_constraints='',\n",
       "              learning_rate=0.300000012, max_delta_step=0, max_depth=6,\n",
       "              min_child_weight=1, missing=nan, monotone_constraints='()',\n",
       "              n_estimators=100, n_jobs=0, num_parallel_tree=1,\n",
       "              objective='multi:softprob', random_state=0, reg_alpha=0,\n",
       "              reg_lambda=1, scale_pos_weight=None, subsample=1,\n",
       "              tree_method='exact', validate_parameters=1, verbosity=None)"
      ]
     },
     "execution_count": 14,
     "metadata": {},
     "output_type": "execute_result"
    }
   ],
   "source": [
    "# Train xgb classifier for pet category\n",
    "model1 = xgb.XGBClassifier()\n",
    "model1.fit(x, y1)\n",
    "\n",
    "model2 = xgb.XGBClassifier()\n",
    "model2.fit(x, y2)"
   ]
  },
  {
   "cell_type": "markdown",
   "metadata": {},
   "source": [
    "# Read test dataset file"
   ]
  },
  {
   "cell_type": "code",
   "execution_count": 6,
   "metadata": {},
   "outputs": [
    {
     "data": {
      "text/html": [
       "<div>\n",
       "<style scoped>\n",
       "    .dataframe tbody tr th:only-of-type {\n",
       "        vertical-align: middle;\n",
       "    }\n",
       "\n",
       "    .dataframe tbody tr th {\n",
       "        vertical-align: top;\n",
       "    }\n",
       "\n",
       "    .dataframe thead th {\n",
       "        text-align: right;\n",
       "    }\n",
       "</style>\n",
       "<table border=\"1\" class=\"dataframe\">\n",
       "  <thead>\n",
       "    <tr style=\"text-align: right;\">\n",
       "      <th></th>\n",
       "      <th>pet_id</th>\n",
       "      <th>issue_date</th>\n",
       "      <th>listing_date</th>\n",
       "      <th>condition</th>\n",
       "      <th>color_type</th>\n",
       "      <th>length(m)</th>\n",
       "      <th>height(cm)</th>\n",
       "      <th>X1</th>\n",
       "      <th>X2</th>\n",
       "    </tr>\n",
       "  </thead>\n",
       "  <tbody>\n",
       "    <tr>\n",
       "      <th>0</th>\n",
       "      <td>ANSL_75005</td>\n",
       "      <td>2005-08-17 00:00:00</td>\n",
       "      <td>2017-09-07 15:35:00</td>\n",
       "      <td>0.0</td>\n",
       "      <td>Black</td>\n",
       "      <td>0.87</td>\n",
       "      <td>42.73</td>\n",
       "      <td>0</td>\n",
       "      <td>7</td>\n",
       "    </tr>\n",
       "    <tr>\n",
       "      <th>1</th>\n",
       "      <td>ANSL_76663</td>\n",
       "      <td>2018-11-15 00:00:00</td>\n",
       "      <td>2019-05-08 17:24:00</td>\n",
       "      <td>1.0</td>\n",
       "      <td>Orange Tabby</td>\n",
       "      <td>0.06</td>\n",
       "      <td>6.71</td>\n",
       "      <td>0</td>\n",
       "      <td>1</td>\n",
       "    </tr>\n",
       "    <tr>\n",
       "      <th>2</th>\n",
       "      <td>ANSL_58259</td>\n",
       "      <td>2012-10-11 00:00:00</td>\n",
       "      <td>2018-04-02 16:51:00</td>\n",
       "      <td>1.0</td>\n",
       "      <td>Black</td>\n",
       "      <td>0.24</td>\n",
       "      <td>41.21</td>\n",
       "      <td>0</td>\n",
       "      <td>7</td>\n",
       "    </tr>\n",
       "    <tr>\n",
       "      <th>3</th>\n",
       "      <td>ANSL_67171</td>\n",
       "      <td>2015-02-13 00:00:00</td>\n",
       "      <td>2018-04-06 07:25:00</td>\n",
       "      <td>1.0</td>\n",
       "      <td>Black</td>\n",
       "      <td>0.29</td>\n",
       "      <td>8.46</td>\n",
       "      <td>7</td>\n",
       "      <td>1</td>\n",
       "    </tr>\n",
       "    <tr>\n",
       "      <th>4</th>\n",
       "      <td>ANSL_72871</td>\n",
       "      <td>2017-01-18 00:00:00</td>\n",
       "      <td>2018-04-26 13:42:00</td>\n",
       "      <td>1.0</td>\n",
       "      <td>Brown</td>\n",
       "      <td>0.71</td>\n",
       "      <td>30.92</td>\n",
       "      <td>0</td>\n",
       "      <td>7</td>\n",
       "    </tr>\n",
       "    <tr>\n",
       "      <th>...</th>\n",
       "      <td>...</td>\n",
       "      <td>...</td>\n",
       "      <td>...</td>\n",
       "      <td>...</td>\n",
       "      <td>...</td>\n",
       "      <td>...</td>\n",
       "      <td>...</td>\n",
       "      <td>...</td>\n",
       "      <td>...</td>\n",
       "    </tr>\n",
       "    <tr>\n",
       "      <th>8067</th>\n",
       "      <td>ANSL_66809</td>\n",
       "      <td>2016-02-10 00:00:00</td>\n",
       "      <td>2017-03-10 14:56:00</td>\n",
       "      <td>2.0</td>\n",
       "      <td>Brown</td>\n",
       "      <td>0.82</td>\n",
       "      <td>36.08</td>\n",
       "      <td>13</td>\n",
       "      <td>9</td>\n",
       "    </tr>\n",
       "    <tr>\n",
       "      <th>8068</th>\n",
       "      <td>ANSL_59041</td>\n",
       "      <td>2015-12-07 00:00:00</td>\n",
       "      <td>2018-02-12 00:00:00</td>\n",
       "      <td>0.0</td>\n",
       "      <td>Tan</td>\n",
       "      <td>0.49</td>\n",
       "      <td>27.54</td>\n",
       "      <td>13</td>\n",
       "      <td>9</td>\n",
       "    </tr>\n",
       "    <tr>\n",
       "      <th>8069</th>\n",
       "      <td>ANSL_60034</td>\n",
       "      <td>2015-12-08 00:00:00</td>\n",
       "      <td>2017-01-04 17:19:00</td>\n",
       "      <td>0.0</td>\n",
       "      <td>Black</td>\n",
       "      <td>0.98</td>\n",
       "      <td>37.19</td>\n",
       "      <td>0</td>\n",
       "      <td>7</td>\n",
       "    </tr>\n",
       "    <tr>\n",
       "      <th>8070</th>\n",
       "      <td>ANSL_58066</td>\n",
       "      <td>2016-06-28 00:00:00</td>\n",
       "      <td>2017-07-20 18:19:00</td>\n",
       "      <td>NaN</td>\n",
       "      <td>Black</td>\n",
       "      <td>0.79</td>\n",
       "      <td>23.83</td>\n",
       "      <td>0</td>\n",
       "      <td>2</td>\n",
       "    </tr>\n",
       "    <tr>\n",
       "      <th>8071</th>\n",
       "      <td>ANSL_69436</td>\n",
       "      <td>2016-02-02 00:00:00</td>\n",
       "      <td>2017-02-28 16:47:00</td>\n",
       "      <td>0.0</td>\n",
       "      <td>Black</td>\n",
       "      <td>0.64</td>\n",
       "      <td>24.51</td>\n",
       "      <td>0</td>\n",
       "      <td>1</td>\n",
       "    </tr>\n",
       "  </tbody>\n",
       "</table>\n",
       "<p>8072 rows × 9 columns</p>\n",
       "</div>"
      ],
      "text/plain": [
       "          pet_id           issue_date         listing_date  condition  \\\n",
       "0     ANSL_75005  2005-08-17 00:00:00  2017-09-07 15:35:00        0.0   \n",
       "1     ANSL_76663  2018-11-15 00:00:00  2019-05-08 17:24:00        1.0   \n",
       "2     ANSL_58259  2012-10-11 00:00:00  2018-04-02 16:51:00        1.0   \n",
       "3     ANSL_67171  2015-02-13 00:00:00  2018-04-06 07:25:00        1.0   \n",
       "4     ANSL_72871  2017-01-18 00:00:00  2018-04-26 13:42:00        1.0   \n",
       "...          ...                  ...                  ...        ...   \n",
       "8067  ANSL_66809  2016-02-10 00:00:00  2017-03-10 14:56:00        2.0   \n",
       "8068  ANSL_59041  2015-12-07 00:00:00  2018-02-12 00:00:00        0.0   \n",
       "8069  ANSL_60034  2015-12-08 00:00:00  2017-01-04 17:19:00        0.0   \n",
       "8070  ANSL_58066  2016-06-28 00:00:00  2017-07-20 18:19:00        NaN   \n",
       "8071  ANSL_69436  2016-02-02 00:00:00  2017-02-28 16:47:00        0.0   \n",
       "\n",
       "        color_type  length(m)  height(cm)  X1  X2  \n",
       "0            Black       0.87       42.73   0   7  \n",
       "1     Orange Tabby       0.06        6.71   0   1  \n",
       "2            Black       0.24       41.21   0   7  \n",
       "3            Black       0.29        8.46   7   1  \n",
       "4            Brown       0.71       30.92   0   7  \n",
       "...            ...        ...         ...  ..  ..  \n",
       "8067         Brown       0.82       36.08  13   9  \n",
       "8068           Tan       0.49       27.54  13   9  \n",
       "8069         Black       0.98       37.19   0   7  \n",
       "8070         Black       0.79       23.83   0   2  \n",
       "8071         Black       0.64       24.51   0   1  \n",
       "\n",
       "[8072 rows x 9 columns]"
      ]
     },
     "execution_count": 6,
     "metadata": {},
     "output_type": "execute_result"
    }
   ],
   "source": [
    "test_data = pd.read_csv(\"./Dataset/test.csv\")\n",
    "test_data"
   ]
  },
  {
   "cell_type": "code",
   "execution_count": 8,
   "metadata": {},
   "outputs": [
    {
     "data": {
      "text/plain": [
       "array([[0.0, 'Black', 0.87, 42.73, 0, 7],\n",
       "       [1.0, 'Orange Tabby', 0.06, 6.71, 0, 1],\n",
       "       [1.0, 'Black', 0.24, 41.21, 0, 7],\n",
       "       ...,\n",
       "       [0.0, 'Black', 0.98, 37.19, 0, 7],\n",
       "       [nan, 'Black', 0.79, 23.83, 0, 2],\n",
       "       [0.0, 'Black', 0.64, 24.51, 0, 1]], dtype=object)"
      ]
     },
     "execution_count": 8,
     "metadata": {},
     "output_type": "execute_result"
    }
   ],
   "source": [
    "# data pre-processing\n",
    "x_test = np.array(test_data[in_features])\n",
    "x_test"
   ]
  },
  {
   "cell_type": "code",
   "execution_count": 9,
   "metadata": {},
   "outputs": [
    {
     "name": "stdout",
     "output_type": "stream",
     "text": [
      "[[0.0 3 0.87 42.73 0 7]\n",
      " [1.0 14 0.06 6.71 0 1]\n",
      " [1.0 3 0.24 41.21 0 7]\n",
      " ...\n",
      " [0.0 3 0.98 37.19 0 7]\n",
      " [nan 3 0.79 23.83 0 2]\n",
      " [0.0 3 0.64 24.51 0 1]]\n"
     ]
    }
   ],
   "source": [
    "for i in range(0, len(color_type)):\n",
    "    ar1 = np.where(x_test[:, 1] == color_type[i])\n",
    "    for j in range(0, len(ar1[0])):\n",
    "        x_test[ar1[0][j], 1] = i\n",
    "\n",
    "print(x_test)"
   ]
  },
  {
   "cell_type": "markdown",
   "metadata": {},
   "source": [
    "# Prediction using trained model "
   ]
  },
  {
   "cell_type": "code",
   "execution_count": 15,
   "metadata": {},
   "outputs": [],
   "source": [
    "y1_pred = model1.predict(x_test)\n",
    "y2_pred = model2.predict(x_test)"
   ]
  },
  {
   "cell_type": "code",
   "execution_count": 16,
   "metadata": {},
   "outputs": [
    {
     "name": "stdout",
     "output_type": "stream",
     "text": [
      "[2 1 2 ... 2 1 2]\n",
      "[1. 0. 0. ... 1. 2. 1.]\n"
     ]
    }
   ],
   "source": [
    "print(y1_pred)\n",
    "print(y2_pred)"
   ]
  },
  {
   "cell_type": "markdown",
   "metadata": {},
   "source": [
    "# Output file "
   ]
  },
  {
   "cell_type": "code",
   "execution_count": 14,
   "metadata": {},
   "outputs": [],
   "source": [
    "PetId = np.array(test_data['pet_id'])\n",
    "op = {'pet_id': PetId, 'breed_category': y2_pred , 'pet_category':y1_pred} \n",
    "df = pd.DataFrame(op)\n",
    "df.to_csv('output.csv', index = False)"
   ]
  },
  {
   "cell_type": "code",
   "execution_count": 15,
   "metadata": {},
   "outputs": [
    {
     "data": {
      "text/html": [
       "<div>\n",
       "<style scoped>\n",
       "    .dataframe tbody tr th:only-of-type {\n",
       "        vertical-align: middle;\n",
       "    }\n",
       "\n",
       "    .dataframe tbody tr th {\n",
       "        vertical-align: top;\n",
       "    }\n",
       "\n",
       "    .dataframe thead th {\n",
       "        text-align: right;\n",
       "    }\n",
       "</style>\n",
       "<table border=\"1\" class=\"dataframe\">\n",
       "  <thead>\n",
       "    <tr style=\"text-align: right;\">\n",
       "      <th></th>\n",
       "      <th>pet_id</th>\n",
       "      <th>breed_category</th>\n",
       "      <th>pet_category</th>\n",
       "    </tr>\n",
       "  </thead>\n",
       "  <tbody>\n",
       "    <tr>\n",
       "      <th>0</th>\n",
       "      <td>ANSL_75005</td>\n",
       "      <td>1.0</td>\n",
       "      <td>2</td>\n",
       "    </tr>\n",
       "    <tr>\n",
       "      <th>1</th>\n",
       "      <td>ANSL_76663</td>\n",
       "      <td>0.0</td>\n",
       "      <td>1</td>\n",
       "    </tr>\n",
       "    <tr>\n",
       "      <th>2</th>\n",
       "      <td>ANSL_58259</td>\n",
       "      <td>0.0</td>\n",
       "      <td>2</td>\n",
       "    </tr>\n",
       "    <tr>\n",
       "      <th>3</th>\n",
       "      <td>ANSL_67171</td>\n",
       "      <td>0.0</td>\n",
       "      <td>1</td>\n",
       "    </tr>\n",
       "    <tr>\n",
       "      <th>4</th>\n",
       "      <td>ANSL_72871</td>\n",
       "      <td>0.0</td>\n",
       "      <td>2</td>\n",
       "    </tr>\n",
       "    <tr>\n",
       "      <th>...</th>\n",
       "      <td>...</td>\n",
       "      <td>...</td>\n",
       "      <td>...</td>\n",
       "    </tr>\n",
       "    <tr>\n",
       "      <th>8067</th>\n",
       "      <td>ANSL_66809</td>\n",
       "      <td>0.0</td>\n",
       "      <td>2</td>\n",
       "    </tr>\n",
       "    <tr>\n",
       "      <th>8068</th>\n",
       "      <td>ANSL_59041</td>\n",
       "      <td>1.0</td>\n",
       "      <td>2</td>\n",
       "    </tr>\n",
       "    <tr>\n",
       "      <th>8069</th>\n",
       "      <td>ANSL_60034</td>\n",
       "      <td>1.0</td>\n",
       "      <td>2</td>\n",
       "    </tr>\n",
       "    <tr>\n",
       "      <th>8070</th>\n",
       "      <td>ANSL_58066</td>\n",
       "      <td>2.0</td>\n",
       "      <td>1</td>\n",
       "    </tr>\n",
       "    <tr>\n",
       "      <th>8071</th>\n",
       "      <td>ANSL_69436</td>\n",
       "      <td>1.0</td>\n",
       "      <td>2</td>\n",
       "    </tr>\n",
       "  </tbody>\n",
       "</table>\n",
       "<p>8072 rows × 3 columns</p>\n",
       "</div>"
      ],
      "text/plain": [
       "          pet_id  breed_category  pet_category\n",
       "0     ANSL_75005             1.0             2\n",
       "1     ANSL_76663             0.0             1\n",
       "2     ANSL_58259             0.0             2\n",
       "3     ANSL_67171             0.0             1\n",
       "4     ANSL_72871             0.0             2\n",
       "...          ...             ...           ...\n",
       "8067  ANSL_66809             0.0             2\n",
       "8068  ANSL_59041             1.0             2\n",
       "8069  ANSL_60034             1.0             2\n",
       "8070  ANSL_58066             2.0             1\n",
       "8071  ANSL_69436             1.0             2\n",
       "\n",
       "[8072 rows x 3 columns]"
      ]
     },
     "execution_count": 15,
     "metadata": {},
     "output_type": "execute_result"
    }
   ],
   "source": [
    "my_op = pd.read_csv(\"./output.csv\")\n",
    "my_op"
   ]
  },
  {
   "cell_type": "markdown",
   "metadata": {},
   "source": [
    "# Part - 2"
   ]
  },
  {
   "cell_type": "markdown",
   "metadata": {},
   "source": [
    "# Use breed category data for prediction of pet category and vice versa"
   ]
  },
  {
   "cell_type": "code",
   "execution_count": 10,
   "metadata": {},
   "outputs": [],
   "source": [
    "new_if = ['condition', 'color_type', 'length(m)', 'height(cm)','X1','X2', 'breed_category']\n",
    "x_new = np.array(train_dataset[new_if])\n",
    "\n",
    "color_type = []\n",
    "for f in range(0, len(train_dataset)):\n",
    "    if not( train_dataset['color_type'][f] in color_type):\n",
    "        color_type.append(train_dataset['color_type'][f])\n",
    "        \n",
    "for i in range(0, len(color_type)):\n",
    "    ar1 = np.where(x_new[:, 1] == color_type[i])\n",
    "    for j in range(0, len(ar1[0])):\n",
    "        x_new[ar1[0][j], 1] = i"
   ]
  },
  {
   "cell_type": "code",
   "execution_count": 11,
   "metadata": {},
   "outputs": [
    {
     "data": {
      "text/plain": [
       "array([[2.0, 0, 0.8, ..., 13, 9, 0.0],\n",
       "       [1.0, 1, 0.72, ..., 13, 9, 0.0],\n",
       "       [nan, 2, 0.15, ..., 15, 4, 2.0],\n",
       "       ...,\n",
       "       [0.0, 25, 0.99, ..., 13, 9, 1.0],\n",
       "       [0.0, 16, 0.55, ..., 13, 9, 1.0],\n",
       "       [0.0, 2, 0.86, ..., 0, 1, 1.0]], dtype=object)"
      ]
     },
     "execution_count": 11,
     "metadata": {},
     "output_type": "execute_result"
    }
   ],
   "source": [
    "x_new"
   ]
  },
  {
   "cell_type": "code",
   "execution_count": 12,
   "metadata": {},
   "outputs": [
    {
     "name": "stderr",
     "output_type": "stream",
     "text": [
      "/home/sameer/anaconda3/lib/python3.7/site-packages/sklearn/preprocessing/_label.py:235: DataConversionWarning: A column-vector y was passed when a 1d array was expected. Please change the shape of y to (n_samples, ), for example using ravel().\n",
      "  y = column_or_1d(y, warn=True)\n",
      "/home/sameer/anaconda3/lib/python3.7/site-packages/sklearn/preprocessing/_label.py:268: DataConversionWarning: A column-vector y was passed when a 1d array was expected. Please change the shape of y to (n_samples, ), for example using ravel().\n",
      "  y = column_or_1d(y, warn=True)\n"
     ]
    },
    {
     "data": {
      "text/plain": [
       "XGBClassifier(base_score=0.5, booster='gbtree', colsample_bylevel=1,\n",
       "              colsample_bynode=1, colsample_bytree=1, gamma=0, gpu_id=-1,\n",
       "              importance_type='gain', interaction_constraints='',\n",
       "              learning_rate=0.300000012, max_delta_step=0, max_depth=6,\n",
       "              min_child_weight=1, missing=nan, monotone_constraints='()',\n",
       "              n_estimators=100, n_jobs=0, num_parallel_tree=1,\n",
       "              objective='multi:softprob', random_state=0, reg_alpha=0,\n",
       "              reg_lambda=1, scale_pos_weight=None, subsample=1,\n",
       "              tree_method='exact', validate_parameters=1, verbosity=None)"
      ]
     },
     "execution_count": 12,
     "metadata": {},
     "output_type": "execute_result"
    }
   ],
   "source": [
    "model3 = xgb.XGBClassifier()\n",
    "model3.fit(x_new, y1)"
   ]
  },
  {
   "cell_type": "code",
   "execution_count": 69,
   "metadata": {},
   "outputs": [
    {
     "data": {
      "text/plain": [
       "array([[ 0.  ,  3.  ,  0.87, ...,  0.  ,  7.  ,  1.  ],\n",
       "       [ 1.  , 14.  ,  0.06, ...,  0.  ,  1.  ,  0.  ],\n",
       "       [ 1.  ,  3.  ,  0.24, ...,  0.  ,  7.  ,  0.  ],\n",
       "       ...,\n",
       "       [ 0.  ,  3.  ,  0.98, ...,  0.  ,  7.  ,  1.  ],\n",
       "       [  nan,  3.  ,  0.79, ...,  0.  ,  2.  ,  2.  ],\n",
       "       [ 0.  ,  3.  ,  0.64, ...,  0.  ,  1.  ,  1.  ]])"
      ]
     },
     "execution_count": 69,
     "metadata": {},
     "output_type": "execute_result"
    }
   ],
   "source": [
    "\n",
    "op1 = {'condition':x_test[:, 0], 'color_type':x_test[:, 1], 'length(m)':x_test[:, 2], 'height(cm)':x_test[:, 3],'X1':x_test[:, 4],'X2':x_test[:, 5], 'breed_category': y2_pred} \n",
    "df1\n",
    "x3_test_new = np.array(df1[new_if])\n",
    "x3_test_new"
   ]
  },
  {
   "cell_type": "code",
   "execution_count": 70,
   "metadata": {},
   "outputs": [
    {
     "data": {
      "text/plain": [
       "(8072, 7)"
      ]
     },
     "execution_count": 70,
     "metadata": {},
     "output_type": "execute_result"
    }
   ],
   "source": [
    "np.shape(x3_test_new)"
   ]
  },
  {
   "cell_type": "code",
   "execution_count": 71,
   "metadata": {},
   "outputs": [],
   "source": [
    "y3_pred = model3.predict(x3_test_new)"
   ]
  },
  {
   "cell_type": "code",
   "execution_count": 72,
   "metadata": {},
   "outputs": [
    {
     "data": {
      "text/plain": [
       "array([2, 1, 2, ..., 2, 1, 2])"
      ]
     },
     "execution_count": 72,
     "metadata": {},
     "output_type": "execute_result"
    }
   ],
   "source": [
    "y3_pred"
   ]
  },
  {
   "cell_type": "code",
   "execution_count": 75,
   "metadata": {},
   "outputs": [],
   "source": [
    "ct = 0\n",
    "if(y1_pred.all() == y3_pred.all()):\n",
    "    ct = ct +1 "
   ]
  },
  {
   "cell_type": "code",
   "execution_count": 76,
   "metadata": {},
   "outputs": [
    {
     "data": {
      "text/plain": [
       "1"
      ]
     },
     "execution_count": 76,
     "metadata": {},
     "output_type": "execute_result"
    }
   ],
   "source": [
    "ct"
   ]
  },
  {
   "cell_type": "code",
   "execution_count": null,
   "metadata": {},
   "outputs": [],
   "source": []
  }
 ],
 "metadata": {
  "kernelspec": {
   "display_name": "Python 3",
   "language": "python",
   "name": "python3"
  },
  "language_info": {
   "codemirror_mode": {
    "name": "ipython",
    "version": 3
   },
   "file_extension": ".py",
   "mimetype": "text/x-python",
   "name": "python",
   "nbconvert_exporter": "python",
   "pygments_lexer": "ipython3",
   "version": "3.7.6"
  }
 },
 "nbformat": 4,
 "nbformat_minor": 2
}
